{
  "nbformat": 4,
  "nbformat_minor": 0,
  "metadata": {
    "colab": {
      "name": "hamburger_dt_analysis_visualization.ipynb",
      "private_outputs": true,
      "provenance": [],
      "collapsed_sections": []
    },
    "kernelspec": {
      "name": "python3",
      "display_name": "Python 3"
    },
    "language_info": {
      "name": "python"
    }
  },
  "cells": [
    {
      "cell_type": "code",
      "source": [
        "import pandas as pd\n",
        "import numpy as np\n",
        "import seaborn as sns\n",
        "import matplotlib.pyplot as plt"
      ],
      "metadata": {
        "id": "m07-Xi8wfG0v"
      },
      "execution_count": null,
      "outputs": []
    },
    {
      "cell_type": "code",
      "source": [
        "# 폰트 설정이 잘 안 된다면 해당 셀의 마지막 줄 주석을 풀고 실행해 보세요.\n",
        "# colab 사용시에도 아래 함수를 활용해 보세요.\n",
        "def get_font_family():\n",
        "    \"\"\"\n",
        "    시스템 환경에 따른 기본 폰트명을 반환하는 함수\n",
        "    \"\"\"\n",
        "    import platform\n",
        "    system_name = platform.system()\n",
        "\n",
        "    if system_name == \"Darwin\" :\n",
        "        font_family = \"AppleGothic\"\n",
        "    elif system_name == \"Windows\":\n",
        "        font_family = \"Malgun Gothic\"\n",
        "    else:\n",
        "        # Linux(colab)\n",
        "        !apt-get install fonts-nanum -qq  > /dev/null\n",
        "        !fc-cache -fv\n",
        "\n",
        "        import matplotlib as mpl\n",
        "        mpl.font_manager._rebuild()\n",
        "        findfont = mpl.font_manager.fontManager.findfont\n",
        "        mpl.font_manager.findfont = findfont\n",
        "        mpl.backends.backend_agg.findfont = findfont\n",
        "        \n",
        "        font_family = \"NanumBarunGothic\"\n",
        "    return font_family\n",
        "\n",
        "plt.rc(\"font\", family=get_font_family())"
      ],
      "metadata": {
        "id": "C08koQATCRLx"
      },
      "execution_count": null,
      "outputs": []
    },
    {
      "cell_type": "code",
      "source": [
        "# Win\n",
        "# plt.rc(\"font\", family=\"Malgun Gothic\")\n",
        "# Mac\n",
        "# plt.rc(\"font\", family=\"AppleGothic\")\n",
        "plt.rc(\"axes\", unicode_minus=False)\n",
        "\n",
        "# 폰트가 선명하게 보이도록 설정\n",
        "\n",
        "from IPython.display import set_matplotlib_formats\n",
        "\n",
        "set_matplotlib_formats(\"retina\")"
      ],
      "metadata": {
        "id": "ey8h-IVsCWB1"
      },
      "execution_count": null,
      "outputs": []
    },
    {
      "cell_type": "markdown",
      "source": [
        "1. 데이터 로드 \n"
      ],
      "metadata": {
        "id": "KYEZmAAeBFCD"
      }
    },
    {
      "cell_type": "code",
      "source": [
        "\n"
      ],
      "metadata": {
        "id": "zwYH2_tdBEXh"
      },
      "execution_count": null,
      "outputs": []
    },
    {
      "cell_type": "code",
      "execution_count": null,
      "metadata": {
        "id": "D18tpjYQ_3bt"
      },
      "outputs": [],
      "source": [
        "from google.colab import drive\n",
        "drive.mount('/content/drive')"
      ]
    },
    {
      "cell_type": "code",
      "source": [
        "# 소상공인 상가 정보\n",
        "df = pd.read_csv(\"/content/drive/MyDrive/Colab Notebooks/CS_AI_10/Cp1_1/소상공인시장진흥공단_상가(상권)정보_서울_202203.csv\")\n",
        "df.head()"
      ],
      "metadata": {
        "id": "mm1NwYaIBMOP"
      },
      "execution_count": null,
      "outputs": []
    },
    {
      "cell_type": "code",
      "source": [
        "columns = ['상호명', '상권업종대분류명', '상권업종중분류명', '상권업종소분류명', \n",
        "           '시도명', '시군구명', '행정동명', '법정동명', '도로명주소', \n",
        "           '경도', '위도']\n",
        "print(df.shape)\n",
        "df = df[columns].copy()\n",
        "df.shape"
      ],
      "metadata": {
        "id": "5y-dnPubBRq6"
      },
      "execution_count": null,
      "outputs": []
    },
    {
      "cell_type": "code",
      "source": [
        "df_seoul = df[df[\"시도명\"] == \"서울특별시\"].copy()\n",
        "print(df_seoul.shape)\n",
        "df_seoul.head()"
      ],
      "metadata": {
        "id": "MittxuSGBn5y"
      },
      "execution_count": null,
      "outputs": []
    },
    {
      "cell_type": "code",
      "source": [
        "df_seoul[\"행정동명\"].unique()"
      ],
      "metadata": {
        "id": "PUUT-tiVBpaT"
      },
      "execution_count": null,
      "outputs": []
    },
    {
      "cell_type": "code",
      "source": [
        "df_seoul[\"행정동명\"].nunique()"
      ],
      "metadata": {
        "id": "VWZvuMGxBrvk"
      },
      "execution_count": null,
      "outputs": []
    },
    {
      "cell_type": "code",
      "source": [
        "df_seoul[\"상호명_소문자\"] = df_seoul[\"상호명\"].str.lower()"
      ],
      "metadata": {
        "id": "7VRl36SwZPoj"
      },
      "execution_count": null,
      "outputs": []
    },
    {
      "cell_type": "code",
      "source": [
        "df_seoul.loc[df_seoul[\"상호명_소문자\"].str.contains(\"파파이스\"), \"상호명_소문자\"].shape"
      ],
      "metadata": {
        "id": "_vdbHoWFRbd7"
      },
      "execution_count": null,
      "outputs": []
    },
    {
      "cell_type": "code",
      "source": [
        "df_seoul.loc[df_seoul[\"상호명_소문자\"].str.contains(\"프랭크버거\"), \"상호명_소문자\"].shape"
      ],
      "metadata": {
        "id": "V0wwgmdIQf5B"
      },
      "execution_count": null,
      "outputs": []
    },
    {
      "cell_type": "code",
      "source": [
        "df_seoul.loc[df_seoul[\"상호명_소문자\"].str.contains(\"쉐이크쉑\"), \"상호명_소문자\"].shape"
      ],
      "metadata": {
        "id": "7HMDodANRG6c"
      },
      "execution_count": null,
      "outputs": []
    },
    {
      "cell_type": "code",
      "source": [
        "df_seoul[\"상호명_소문자\"] = df_seoul[\"상호명\"].str.lower()\n",
        "\n",
        "df_ham = df_seoul[\n",
        "    df_seoul[\"상호명_소문자\"].str.contains('맥도날드|버거킹|맘스터치|롯데리아|kfc|노브랜드버거|쉐이크쉑|프랭크버거|파파이스')].copy()\n",
        "df_ham.shape\n",
        "\n",
        "\n",
        "\n"
      ],
      "metadata": {
        "id": "bNt52XfdBuR1"
      },
      "execution_count": null,
      "outputs": []
    },
    {
      "cell_type": "code",
      "source": [
        "df_ham.loc[df_ham[\"상호명_소문자\"].str.contains(\"맥도날드\"), \n",
        "          \"브랜드명\"] = \"맥도날드\"\n",
        "df_ham.loc[df_ham[\"상호명_소문자\"].str.contains(\"롯데리아\"), \n",
        "          \"브랜드명\"] = \"롯데리아\"\n",
        "df_ham.loc[df_ham[\"상호명_소문자\"].str.contains(\"버거킹\"), \n",
        "          \"브랜드명\"] = \"버거킹\"  \n",
        "df_ham.loc[df_ham[\"상호명_소문자\"].str.contains(\"맘스터치\"), \n",
        "          \"브랜드명\"] = \"맘스터치\"        \n",
        "df_ham.loc[df_ham[\"상호명_소문자\"].str.contains(\"kfc\"), \n",
        "          \"브랜드명\"] = \"kfc\"\n",
        "df_ham.loc[df_ham[\"상호명_소문자\"].str.contains(\"프랭크버거\"), \n",
        "          \"브랜드명\"] = \"프랭크버거\"\n",
        "df_ham.loc[df_ham[\"상호명_소문자\"].str.contains(\"노브랜드버거\"), \n",
        "          \"브랜드명\"] = \"노브랜드버거\"\n",
        "df_ham.loc[df_ham[\"상호명_소문자\"].str.contains(\"쉐이크쉑\"), \n",
        "          \"브랜드명\"] = \"쉐이크쉑\"\n",
        "df_ham.loc[df_ham[\"상호명_소문자\"].str.contains(\"파파이스\"), \n",
        "          \"브랜드명\"] = \"파파이스\"\n",
        "\n",
        "df_ham[\"브랜드명\"].unique()"
      ],
      "metadata": {
        "id": "BhUuHpN0B1Df"
      },
      "execution_count": null,
      "outputs": []
    },
    {
      "cell_type": "code",
      "source": [
        "#도로명 주소, 브랜드 중복 제거\n",
        "df_ham = df_ham.drop_duplicates(['도로명주소','브랜드명'])\n",
        "df_ham.shape\n"
      ],
      "metadata": {
        "id": "bJJ5J67zB3x1"
      },
      "execution_count": null,
      "outputs": []
    },
    {
      "cell_type": "code",
      "source": [
        "df_ham = df_ham[['행정동명','브랜드명','시군구명','경도','위도','도로명주소','상호명']]"
      ],
      "metadata": {
        "id": "yPRUnDwPCpLj"
      },
      "execution_count": null,
      "outputs": []
    },
    {
      "cell_type": "code",
      "source": [
        "plt.figure(figsize=(15, 4))\n",
        "\n",
        "\n",
        "g = sns.countplot(data=df_ham, x=\"브랜드명\", order = df_ham['브랜드명'].value_counts().index)\n",
        "\n",
        "for p in g.patches:\n",
        "    height = p.get_height()\n",
        "    g.text(p.get_x() + p.get_width() / 2., height + 3, height, ha = 'center', size = 9)\n",
        "\n",
        "g.set_ylim(-5, 100)\n",
        "plt.show()"
      ],
      "metadata": {
        "id": "eVFUs4tKB-zx"
      },
      "execution_count": null,
      "outputs": []
    },
    {
      "cell_type": "code",
      "source": [
        "df_ham_rank= df_ham.pivot_table(index=\"브랜드명\", values=\"도로명주소\", aggfunc=\"count\")\n",
        "df_ham_rank.sort_values(by='도로명주소' ,ascending=False)"
      ],
      "metadata": {
        "id": "NCQGresTSqYd"
      },
      "execution_count": null,
      "outputs": []
    },
    {
      "cell_type": "code",
      "source": [
        "plt.figure(figsize=(15, 4))\n",
        "g = sns.countplot(data=df_ham, x=\"시군구명\", hue=\"브랜드명\")"
      ],
      "metadata": {
        "id": "Q_luwfiNDAyX"
      },
      "execution_count": null,
      "outputs": []
    },
    {
      "cell_type": "code",
      "source": [
        "dong_ham_brand_count = df_ham.pivot_table(index=\"행정동명\", values=\"브랜드명\", aggfunc=\"count\")\n",
        "dong_ham_brand_count  = dong_ham_brand_count.sort_values(by='브랜드명' ,ascending=False)\n",
        "dong_ham_brand_count.head(20)"
      ],
      "metadata": {
        "id": "uky4AXk1Dhxn"
      },
      "execution_count": null,
      "outputs": []
    },
    {
      "cell_type": "code",
      "source": [
        "dong_ham_brand_count.reset_index(drop = False, inplace = True)\n",
        "\n",
        "dong_ham_brand_count= dong_ham_brand_count[['행정동명','브랜드명']]\n",
        "dong_ham_brand_count.columns=['name','ham_count']\n",
        "dong_ham_brand_count"
      ],
      "metadata": {
        "id": "tNC-0n2gElIa"
      },
      "execution_count": null,
      "outputs": []
    },
    {
      "cell_type": "code",
      "source": [
        "dong_ham_brand = df_ham.pivot_table(index=\"행정동명\", columns=\"브랜드명\", values=\"경도\", aggfunc=\"count\")\n",
        "dong_ham_brand"
      ],
      "metadata": {
        "id": "9WcxyuWhDpsh"
      },
      "execution_count": null,
      "outputs": []
    },
    {
      "cell_type": "code",
      "source": [
        "sns.scatterplot(data=df_ham, x=\"경도\", y=\"위도\", hue=\"브랜드명\")"
      ],
      "metadata": {
        "id": "K9FofvjmDxJY"
      },
      "execution_count": null,
      "outputs": []
    },
    {
      "cell_type": "code",
      "source": [
        "sns.jointplot(data=df_ham, x=\"경도\", y=\"위도\", kind=\"hex\")"
      ],
      "metadata": {
        "id": "pXvDpI5pEFPT"
      },
      "execution_count": null,
      "outputs": []
    },
    {
      "cell_type": "markdown",
      "source": [
        "1.2 행정동별인구\n"
      ],
      "metadata": {
        "id": "v7r3nvyAEMai"
      }
    },
    {
      "cell_type": "code",
      "source": [
        "pop_df = pd.read_csv(\"/content/drive/MyDrive/Colab Notebooks/CS_AI_10/Cp1_1/동별인구.csv\")\n",
        "\n",
        "pop_df.head()"
      ],
      "metadata": {
        "id": "cdhetnB5ERrX"
      },
      "execution_count": null,
      "outputs": []
    },
    {
      "cell_type": "code",
      "source": [
        "pop_df = pop_df.astype({'인구합계':'int','남자':'int','여자':'int','65세이상':'int'})\n",
        "pop_df.dtypes"
      ],
      "metadata": {
        "id": "0pYclEIMET_-"
      },
      "execution_count": null,
      "outputs": []
    },
    {
      "cell_type": "code",
      "source": [
        "pop_dong_df = pop_df[['동', '인구합계','성비 ','65세이하 인구비율']]\n",
        "\n",
        "pop_dong_df.columns=['name','values', 'sex_rate','young_rate']\n",
        "pop_dong_df"
      ],
      "metadata": {
        "id": "G7zjvA4hEWAd"
      },
      "execution_count": null,
      "outputs": []
    },
    {
      "cell_type": "code",
      "source": [
        "all_df=pd.merge(left = pop_dong_df , right = dong_ham_brand_count, how = \"left\", on = \"name\")\n",
        "all_df = all_df.fillna(0)\n",
        "all_df"
      ],
      "metadata": {
        "id": "-ZH-330RFB56"
      },
      "execution_count": null,
      "outputs": []
    },
    {
      "cell_type": "code",
      "source": [
        "all_df = all_df.astype({'ham_count':'int'})\n",
        "all_df.sort_values(by='ham_count' ,ascending=False)"
      ],
      "metadata": {
        "id": "aFYB0uG6FDmH"
      },
      "execution_count": null,
      "outputs": []
    },
    {
      "cell_type": "code",
      "source": [
        "all_df.loc[all_df.name=='종로1.2.3.4가동','name'] = '종로1·2·3·4가동'\n",
        "all_df.loc[all_df.name=='금호2.3가동','name'] = '금호2·3가동'\n",
        "all_df.loc[all_df.name=='중계2.3동','name'] = '중계2·3동'\n",
        "all_df.loc[all_df.name=='상계3.4동','name'] = '상계3·4동'\n",
        "all_df.loc[all_df.name=='상계6.7동','name'] = '상계6·7동'\n",
        "all_df.loc[all_df.name=='면목3.8동','name']='면목3·8동'\n",
        "\n",
        "#상일동 = 상일1동 2동 합친다\n",
        "all_df.loc[all_df.name=='상일동','ham_count'] = 2\n",
        "\n",
        "\n",
        "all_df.sort_values(by='ham_count' ,ascending=False)"
      ],
      "metadata": {
        "id": "zQTQXG3FFM5u"
      },
      "execution_count": null,
      "outputs": []
    },
    {
      "cell_type": "markdown",
      "source": [
        "1.3 행정동별 5월 생활인구 평균(시간,날짜)"
      ],
      "metadata": {
        "id": "EIQcgb97FX8B"
      }
    },
    {
      "cell_type": "code",
      "source": [
        "life_pop_df = pd.read_csv(\"/content/drive/MyDrive/Colab Notebooks/CS_AI_10/Cp1_1/LOCAL_PEOPLE_DONG_202205_.csv\")\n",
        "life_pop_df"
      ],
      "metadata": {
        "id": "gWX9wFXiFXq2"
      },
      "execution_count": null,
      "outputs": []
    },
    {
      "cell_type": "code",
      "source": [
        "dong_df = pd.read_csv(\"/content/drive/MyDrive/Colab Notebooks/CS_AI_10/Cp1_1/행정동코드_매핑정보_2018_.csv\")\n",
        "dong_df"
      ],
      "metadata": {
        "id": "NXY6qatVFjTQ"
      },
      "execution_count": null,
      "outputs": []
    },
    {
      "cell_type": "code",
      "source": [
        "life_pop_dong_df=pd.merge(left = life_pop_df , right = dong_df, how = \"left\", on = \"행정동코드\")\n",
        "life_pop_dong_df = life_pop_dong_df[['행정동','생활인구_avg']]\n",
        "life_pop_dong_df.columns=['name','local_avg']\n",
        "life_pop_dong_df"
      ],
      "metadata": {
        "id": "Qg3nQTBwFlv9"
      },
      "execution_count": null,
      "outputs": []
    },
    {
      "cell_type": "code",
      "source": [
        "life_pop_dong_df.loc[life_pop_dong_df.name=='종로1.2.3.4가동','name'] = '종로1·2·3·4가동'\n",
        "life_pop_dong_df.loc[life_pop_dong_df.name=='종로5.6가동','name'] = '종로5·6가동'\n",
        "life_pop_dong_df.loc[life_pop_dong_df.name=='금호2.3가동','name'] = '금호2·3가동'\n",
        "life_pop_dong_df.loc[life_pop_dong_df.name=='중계2.3동','name'] = '중계2·3동'\n",
        "life_pop_dong_df.loc[life_pop_dong_df.name=='상계3.4동','name'] = '상계3·4동'\n",
        "life_pop_dong_df.loc[life_pop_dong_df.name=='상계6.7동','name'] = '상계6·7동'\n",
        "life_pop_dong_df.loc[life_pop_dong_df.name=='면목3.8동','name']='면목3·8동'"
      ],
      "metadata": {
        "id": "xd_O1qkRFoAS"
      },
      "execution_count": null,
      "outputs": []
    },
    {
      "cell_type": "code",
      "source": [
        "all_final_df=pd.merge(left = all_df , right = life_pop_dong_df, how = \"left\", on = \"name\")\n",
        "all_final_df= all_final_df.drop_duplicates(['name'])\n",
        "\n",
        "all_final_df =all_final_df.dropna(axis=0)\n",
        "all_final_df"
      ],
      "metadata": {
        "id": "YhByzw0AFjIP"
      },
      "execution_count": null,
      "outputs": []
    },
    {
      "cell_type": "markdown",
      "source": [
        "2. 시각화"
      ],
      "metadata": {
        "id": "Z60NTeYAF0rZ"
      }
    },
    {
      "cell_type": "code",
      "source": [
        "import folium\n",
        "import json\n",
        "\n",
        "geo_json_dong ='https://raw.githubusercontent.com/southkorea/seoul-maps/master/kostat/2013/json/seoul_submunicipalities_geo_simple.json'  \n"
      ],
      "metadata": {
        "id": "6iEqRdkbGOj3"
      },
      "execution_count": null,
      "outputs": []
    },
    {
      "cell_type": "code",
      "source": [
        "# 지도의 중심을 지정하기 위해 위도와 경도의 평균을 구합니다. \n",
        "lat = df_ham[\"위도\"].mean()\n",
        "long = df_ham[\"경도\"].mean()\n",
        "lat, long"
      ],
      "metadata": {
        "id": "SiL_cVe0GWhJ"
      },
      "execution_count": null,
      "outputs": []
    },
    {
      "cell_type": "code",
      "source": [
        "from folium.plugins import MarkerCluster\n",
        "\n",
        "mm = folium.Map([lat, long], zoom_start=11)\n",
        "#marker_cluster = MarkerCluster().add_to(mm)\n",
        "\n",
        "\n",
        "folium.GeoJson(\n",
        "    geo_json_dong,\n",
        "    name='seoul_municipalities'\n",
        ").add_to(mm)\n",
        "\n",
        "\n",
        "for i in df_ham.index:\n",
        "    \n",
        "    sub_lat = df_ham.loc[i, \"위도\"]\n",
        "    sub_long = df_ham.loc[i, \"경도\"]\n",
        "    title = df_ham.loc[i, \"상호명\"] + \" - \" + df_ham.loc[i, \"도로명주소\"]\n",
        "    \n",
        "    icon_color = \"blue\"\n",
        "    if df_ham.loc[i, \"브랜드명\"] == \"맥도날드\":\n",
        "        icon_color = \"red\"\n",
        "\n",
        "    if df_ham.loc[i, \"브랜드명\"] == \"버거킹\":\n",
        "        icon_color = \"brown\"\n",
        "\n",
        "    if df_ham.loc[i, \"브랜드명\"] == \"kfc\":\n",
        "        icon_color = \"green\"\n",
        "\n",
        "    if df_ham.loc[i, \"브랜드명\"] == \"맘스터치\":\n",
        "        icon_color = \"purple\"\n",
        "\n",
        "    if df_ham.loc[i, \"브랜드명\"] == \"노브랜드버거\":\n",
        "        icon_color = \"yellow\"\n",
        "\n",
        "\n",
        "    if df_ham.loc[i, \"브랜드명\"] == \"쉐이크쉑\":\n",
        "        icon_color = \"lightgreen\"\n",
        "\n",
        "\n",
        "    if df_ham.loc[i, \"브랜드명\"] == \"파파이스\":\n",
        "        icon_color = \"lightgray\"\n",
        "\n",
        "    if df_ham.loc[i, \"브랜드명\"] == \"프랭크버거\":\n",
        "        icon_color = \"darkpurple\"\n",
        "\n",
        "\n",
        "\n",
        "    folium.Marker(\n",
        "        [sub_lat, sub_long], \n",
        "        icon=folium.Icon(color=icon_color),\n",
        "        popup=f'<i>{title}</i>', \n",
        "        tooltip=title).add_to(mm)\n",
        "\n",
        "mm.save('index.html')\n",
        "mm"
      ],
      "metadata": {
        "id": "dYUpjX1IF6V1"
      },
      "execution_count": null,
      "outputs": []
    },
    {
      "cell_type": "code",
      "source": [
        ""
      ],
      "metadata": {
        "id": "sPV1l5SdMo7p"
      },
      "execution_count": null,
      "outputs": []
    },
    {
      "cell_type": "code",
      "source": [
        "from folium.plugins import MarkerCluster\n",
        "\n",
        "mc = folium.Map([lat, long], zoom_start=11)\n",
        "marker_cluster = MarkerCluster().add_to(mc)\n",
        "\n",
        "\n",
        "folium.GeoJson(\n",
        "    geo_json_dong,\n",
        "    name='seoul_municipalities'\n",
        ").add_to(mc)\n",
        "\n",
        "\n",
        "for i in df_ham.index:\n",
        "    \n",
        "    sub_lat = df_ham.loc[i, \"위도\"]\n",
        "    sub_long = df_ham.loc[i, \"경도\"]\n",
        "    title = df_ham.loc[i, \"상호명\"] + \" - \" + df_ham.loc[i, \"도로명주소\"]\n",
        "    \n",
        "    icon_color = \"blue\"\n",
        "    if df_ham.loc[i, \"브랜드명\"] == \"맥도날드\":\n",
        "        icon_color = \"red\"\n",
        "\n",
        "    if df_ham.loc[i, \"브랜드명\"] == \"버거킹\":\n",
        "        icon_color = \"brown\"\n",
        "\n",
        "    if df_ham.loc[i, \"브랜드명\"] == \"kfc\":\n",
        "        icon_color = \"green\"\n",
        "\n",
        "    if df_ham.loc[i, \"브랜드명\"] == \"맘스터치\":\n",
        "        icon_color = \"purple\"\n",
        "\n",
        "    if df_ham.loc[i, \"브랜드명\"] == \"노브랜드버거\":\n",
        "        icon_color = \"yellow\"\n",
        "\n",
        "\n",
        "    if df_ham.loc[i, \"브랜드명\"] == \"쉐이크쉑\":\n",
        "        icon_color = \"lightgreen\"\n",
        "\n",
        "\n",
        "    if df_ham.loc[i, \"브랜드명\"] == \"파파이스\":\n",
        "        icon_color = \"lightgray\"\n",
        "\n",
        "    if df_ham.loc[i, \"브랜드명\"] == \"프랭크버거\":\n",
        "        icon_color = \"darkpurple\"\n",
        "\n",
        "\n",
        "\n",
        "    folium.Marker(\n",
        "        [sub_lat, sub_long], \n",
        "        icon=folium.Icon(color=icon_color),\n",
        "        popup=f'<i>{title}</i>', \n",
        "        tooltip=title).add_to(marker_cluster)\n",
        "\n",
        "mc.save('index.html')\n",
        "mc"
      ],
      "metadata": {
        "id": "1_J3yFhzLJsg"
      },
      "execution_count": null,
      "outputs": []
    },
    {
      "cell_type": "code",
      "source": [
        ""
      ],
      "metadata": {
        "id": "SHtAgbBhHE_z"
      },
      "execution_count": null,
      "outputs": []
    },
    {
      "cell_type": "code",
      "source": [
        "# 주민등록 기반 인구수 \n",
        "n=folium.Map(\n",
        "    [lat, long],\n",
        "    zoom_start=11,\n",
        "    tiles='cartodbpositron'\n",
        ")\n",
        "\n",
        "folium.Choropleth(\n",
        "    geo_data=geo_json_dong,\n",
        "    name='choropleth',\n",
        "    data=all_final_df,\n",
        "    columns=['name','values'],\n",
        "    key_on='feature.properties.name',\n",
        "    fill_color='YlGnBu', \n",
        "    fill_opacity=0.7, \n",
        "    line_opacity=0.3,\n",
        "\n",
        "\n",
        ").add_to(n)\n",
        "\n",
        "n"
      ],
      "metadata": {
        "id": "TQ11hwxLH_Ym"
      },
      "execution_count": null,
      "outputs": []
    },
    {
      "cell_type": "code",
      "source": [
        "all_final_df.sort_values(by='values' ,ascending=False)[['name','values']].head(10)"
      ],
      "metadata": {
        "id": "3F206YPSQMB5"
      },
      "execution_count": null,
      "outputs": []
    },
    {
      "cell_type": "code",
      "source": [
        "# 행정동별 햄버거 전문점\n",
        "ham=folium.Map(\n",
        "    [lat, long],\n",
        "    zoom_start=11,\n",
        "    tiles='cartodbpositron'\n",
        ")\n",
        "\n",
        "folium.Choropleth(\n",
        "    geo_data=geo_json_dong,\n",
        "    name='choropleth',\n",
        "    data=all_final_df,\n",
        "    columns=['name','ham_count'],\n",
        "    key_on='feature.properties.name',\n",
        "    fill_color='YlOrRd', \n",
        "    fill_opacity=0.7, \n",
        "    line_opacity=0.3,\n",
        "\n",
        "\n",
        ").add_to(ham)\n",
        "\n",
        "ham"
      ],
      "metadata": {
        "id": "oj3iOU5VJPV1"
      },
      "execution_count": null,
      "outputs": []
    },
    {
      "cell_type": "code",
      "source": [
        "all_final_df.sort_values(by='ham_count' ,ascending=False)[['name','ham_count']].head(10)"
      ],
      "metadata": {
        "id": "VPGPMm0RQDkW"
      },
      "execution_count": null,
      "outputs": []
    },
    {
      "cell_type": "code",
      "source": [
        "# 행정동별 생활인구 평균\n",
        "local=folium.Map(\n",
        "    [lat, long],\n",
        "    zoom_start=12,\n",
        "    tiles='cartodbpositron'\n",
        ")\n",
        "\n",
        "folium.Choropleth(\n",
        "    geo_data=geo_json_dong,\n",
        "    name='choropleth',\n",
        "    data=all_final_df,\n",
        "    columns=['name','local_avg'],\n",
        "    key_on='feature.properties.name',\n",
        "    fill_color='YlGn', \n",
        "    fill_opacity=0.7, \n",
        "    line_opacity=0.3,\n",
        "\n",
        "\n",
        ").add_to(local)\n",
        "\n",
        "local"
      ],
      "metadata": {
        "id": "R3WdPrCEJjT9"
      },
      "execution_count": null,
      "outputs": []
    },
    {
      "cell_type": "code",
      "source": [
        "all_final_df.sort_values(by='local_avg' ,ascending=False)[['name','local_avg']].head(10)"
      ],
      "metadata": {
        "id": "2vgR75GTPu-j"
      },
      "execution_count": null,
      "outputs": []
    },
    {
      "cell_type": "markdown",
      "source": [
        "##3. 데이터 분석\n"
      ],
      "metadata": {
        "id": "F4RL4XT3O66J"
      }
    },
    {
      "cell_type": "code",
      "source": [
        "all_final_df"
      ],
      "metadata": {
        "id": "m8NkVMrQTo3e"
      },
      "execution_count": null,
      "outputs": []
    },
    {
      "cell_type": "code",
      "source": [
        "multi_reg_df= all_final_df.drop(['name'], axis=1)\n",
        "multi_reg_df"
      ],
      "metadata": {
        "id": "tsGrIVn2VP0Y"
      },
      "execution_count": null,
      "outputs": []
    },
    {
      "cell_type": "code",
      "source": [
        "multi_reg_df.dtypes"
      ],
      "metadata": {
        "id": "WFY32_wKWw3I"
      },
      "execution_count": null,
      "outputs": []
    },
    {
      "cell_type": "code",
      "source": [
        "multi_reg_df.isnull().sum()"
      ],
      "metadata": {
        "id": "rEA9Q1gJW2S-"
      },
      "execution_count": null,
      "outputs": []
    },
    {
      "cell_type": "code",
      "source": [
        "from sklearn.model_selection import train_test_split\n",
        "\n",
        "train, test = train_test_split(multi_reg_df, test_size=0.2)\n",
        "\n",
        "label = 'ham_count'\n",
        "feature = ['values',\t'sex_rate',\t'young_rate','local_avg']\n",
        "\n",
        "X_train = train[feature]\n",
        "y_train = train[label]\n",
        "\n",
        "X_test = test[feature]\n",
        "y_test = test[label]\n"
      ],
      "metadata": {
        "id": "yhEb9C5pVMdI"
      },
      "execution_count": null,
      "outputs": []
    },
    {
      "cell_type": "code",
      "source": [
        "X_test"
      ],
      "metadata": {
        "id": "AAd9EDKQdpSK"
      },
      "execution_count": null,
      "outputs": []
    },
    {
      "cell_type": "code",
      "source": [
        "multi_reg_df['local_avg'].mean() "
      ],
      "metadata": {
        "id": "jM0cdRH2EVP2"
      },
      "execution_count": null,
      "outputs": []
    },
    {
      "cell_type": "code",
      "source": [
        "multi_reg_df['values'].mean() "
      ],
      "metadata": {
        "id": "pEmdzsMWEYWk"
      },
      "execution_count": null,
      "outputs": []
    },
    {
      "cell_type": "code",
      "source": [
        "all_final_df.loc[all_final_df['name']=='가락본동']"
      ],
      "metadata": {
        "id": "PNAlMhlqE6Yi"
      },
      "execution_count": null,
      "outputs": []
    },
    {
      "cell_type": "code",
      "source": [
        "import numpy as np\n",
        "from sklearn.metrics import mean_absolute_error, r2_score\n",
        "\n",
        "mean_base =multi_reg_df['ham_count'].mean() # 평균 base line\n",
        "\n",
        "mean_base_to_insert = {'Price': mean_base}\n",
        "mean_base_df = pd.DataFrame({'Price': [mean_base]})\n",
        "\n",
        "for i in range(1, multi_reg_df['ham_count'].shape[0]):  # 계산을 위한 데이터프레임 생성\n",
        "        mean_base_df = mean_base_df.append(mean_base_to_insert, ignore_index=True)\n",
        "        \n",
        "mean_base_df"
      ],
      "metadata": {
        "id": "nbJcTc2pWSjZ"
      },
      "execution_count": null,
      "outputs": []
    },
    {
      "cell_type": "code",
      "source": [
        "X_train.shape, X_test.shape"
      ],
      "metadata": {
        "id": "r_sTIuxUb9sE"
      },
      "execution_count": null,
      "outputs": []
    },
    {
      "cell_type": "code",
      "source": [
        "from pandas.plotting import scatter_matrix\n",
        "\n",
        "attributes = ['values',\t'sex_rate',\t'young_rate','local_avg','ham_count']\n",
        "scatter_matrix(all_final_df[attributes], figsize=(12, 8))"
      ],
      "metadata": {
        "id": "tBFnWN6F1lgh"
      },
      "execution_count": null,
      "outputs": []
    },
    {
      "cell_type": "code",
      "source": [
        "!pip install scipy"
      ],
      "metadata": {
        "id": "0lW4vSk9etCU"
      },
      "execution_count": null,
      "outputs": []
    },
    {
      "cell_type": "code",
      "source": [
        "import statsmodels.api as sm\n",
        "\n",
        "lin_reg = sm.OLS(y_train, X_train).fit()\n",
        "lin_reg.summary()"
      ],
      "metadata": {
        "id": "8Uh1xRfAunfZ"
      },
      "execution_count": null,
      "outputs": []
    },
    {
      "cell_type": "code",
      "source": [
        "!pip install --upgrade category_encoders"
      ],
      "metadata": {
        "id": "mVwhiVEPFpbZ"
      },
      "execution_count": null,
      "outputs": []
    },
    {
      "cell_type": "code",
      "source": [
        "from scipy.stats import randint, uniform\n",
        "from sklearn.pipeline import make_pipeline\n",
        "from category_encoders import OrdinalEncoder\n",
        "from sklearn.impute import SimpleImputer\n",
        "from sklearn.ensemble import RandomForestClassifier\n",
        "from sklearn.metrics import accuracy_score\n",
        "from sklearn.metrics import f1_score\n",
        "from sklearn.model_selection import RandomizedSearchCV\n",
        "from xgboost import XGBClassifier\n",
        "\n",
        "pre_process = make_pipeline(\n",
        "        OrdinalEncoder(), \n",
        "        SimpleImputer(strategy='median'),\n",
        "        XGBClassifier()\n",
        ")\n",
        "\n",
        "# fit_transform, transform\n",
        "#X_train_processed = pre_process.fit_transform(X_train)\n",
        "#X_test_processed = pre_process.transform(X_test)\n",
        "\n",
        "xgb = XGBClassifier()\n",
        "\n",
        "dists = {\n",
        "    'xgbclassifier__n_estimators': [100, 2000], \n",
        "    'xgbclassifier__max_depth': [1, 10], \n",
        "    'xgbclassifier__learning_rate' : [0.01, 0.05, 0.2, 0.3, 0.7, 1],\n",
        "    'xgbclassifier__max_delta_step' : [1, 5],\n",
        "    'xgbclassifier__min_child_weight': [1, 6.], \n",
        "    'xgbclassifier__gamma': [0, 0.5], \n",
        "    'xgbclassifier__subsample' : [0.5, 1.],\n",
        "    'xgbclassifier__colsample_bytree' : [0.5, 1.]\n",
        "}\n",
        "\n",
        "random_clf = RandomizedSearchCV(\n",
        "    pre_process,\n",
        "    param_distributions=dists, \n",
        "    scoring='accuracy',\n",
        "    verbose=1,\n",
        "    n_iter=50, \n",
        "    cv=3, \n",
        "    n_jobs=-1,\n",
        ")\n",
        "\n",
        "\n",
        "random_clf.fit(X_train, y_train);\n",
        "\n",
        "\n",
        "print('최적 하이퍼파라미터: ', random_clf.best_params_)\n",
        "print('accuracy: ', random_clf.best_score_)"
      ],
      "metadata": {
        "id": "oY1hTr5Y2zDr"
      },
      "execution_count": null,
      "outputs": []
    },
    {
      "cell_type": "code",
      "source": [
        "from sklearn.metrics import accuracy_score, classification_report, f1_score\n",
        "xgb_pipe = random_clf.best_estimator_\n",
        "y_pred = xgb_pipe.predict(X_test)\n",
        "\n",
        "print(\"\\n <classification_report> \\n \", classification_report(y_pred, y_test))\n",
        "\n",
        "print('훈련세트 정확도 : ', xgb_pipe.score(X_train, y_train))\n",
        "print('검증세트 정확도 : ', xgb_pipe.score(X_test, y_test))"
      ],
      "metadata": {
        "id": "UIfxIPlc7EDX"
      },
      "execution_count": null,
      "outputs": []
    },
    {
      "cell_type": "code",
      "source": [
        "\n",
        "pipe = make_pipeline(\n",
        "    OrdinalEncoder(), \n",
        "    SimpleImputer(), \n",
        "    RandomForestClassifier(random_state=2)\n",
        ")\n",
        "dists = {\n",
        "    'simpleimputer__strategy': ['mean', 'median', 'most_frequent'], \n",
        "    'randomforestclassifier__n_estimators': randint(50, 500), \n",
        "    'randomforestclassifier__max_depth': [5, 10, 15, 20, None], \n",
        "    'randomforestclassifier__max_features': uniform(0, 1)\n",
        "}\n",
        "clf = RandomizedSearchCV(\n",
        "    pipe, \n",
        "    param_distributions=dists, \n",
        "    n_iter=50, \n",
        "    cv=3, \n",
        "    scoring='accuracy',  \n",
        "    verbose=1,\n",
        "    n_jobs=-1\n",
        ")\n",
        "clf.fit(X_train, y_train);\n",
        "print('최적 하이퍼파라미터: ', clf.best_params_)\n",
        "print('accuracy: ', clf.best_score_)"
      ],
      "metadata": {
        "id": "G1X2abLv5SxI"
      },
      "execution_count": null,
      "outputs": []
    },
    {
      "cell_type": "code",
      "source": [
        "from sklearn.metrics import accuracy_score, classification_report, f1_score\n",
        "ran_forest_pipe = clf.best_estimator_\n",
        "y_pred = ran_forest_pipe.predict(X_test)\n",
        "\n",
        "\n",
        "print(\"\\n <classification_report> \\n \", classification_report(y_pred, y_test))\n",
        "\n",
        "print('훈련세트 정확도 : ', ran_forest_pipe.score(X_train, y_train))\n",
        "print('검증세트 정확도 : ', ran_forest_pipe.score(X_test, y_test))"
      ],
      "metadata": {
        "id": "iOwXOcvU48RV"
      },
      "execution_count": null,
      "outputs": []
    },
    {
      "cell_type": "code",
      "source": [
        "!pip install eli5"
      ],
      "metadata": {
        "id": "El0XYJI7Gk3y"
      },
      "execution_count": null,
      "outputs": []
    },
    {
      "cell_type": "code",
      "source": [
        "\n",
        "import warnings\n",
        "warnings.simplefilter(action='ignore', category=FutureWarning)\n",
        "\n",
        "import eli5\n",
        "from eli5.sklearn import PermutationImportance\n",
        "\n",
        "# permuter 정의\n",
        "permuter = PermutationImportance(\n",
        "    xgb_pipe, #xgbregressor\n",
        "    scoring='r2', # metric\n",
        "    n_iter=5, # 다른 random seed를 사용하여 5번 반복\n",
        "    random_state=2\n",
        ")\n",
        "\n",
        "permuter.fit(X_train, y_train)\n",
        "\n",
        "\n",
        "feature_names = X_test.columns.tolist()\n",
        "\n",
        "eli5.show_weights(\n",
        "    permuter, \n",
        "    top=None, \n",
        "    feature_names=feature_names \n",
        ")"
      ],
      "metadata": {
        "id": "mWDKKW9n3iET"
      },
      "execution_count": null,
      "outputs": []
    }
  ]
}